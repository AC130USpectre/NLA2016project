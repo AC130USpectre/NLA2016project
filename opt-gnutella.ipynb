{
 "cells": [
  {
   "cell_type": "code",
   "execution_count": 23,
   "metadata": {
    "collapsed": false
   },
   "outputs": [],
   "source": [
    "import numpy as np\n",
    "\n",
    "import scipy as sp\n",
    "import scipy.sparse\n",
    "import scipy.sparse.linalg\n",
    "\n",
    "import sklearn\n",
    "import sklearn.preprocessing\n",
    "\n",
    "import matplotlib\n",
    "import matplotlib.pyplot as plt\n",
    "%matplotlib inline\n",
    "\n",
    "import pickle\n",
    "import time"
   ]
  },
  {
   "cell_type": "code",
   "execution_count": 2,
   "metadata": {
    "collapsed": false
   },
   "outputs": [],
   "source": [
    "A = sp.sparse.csr_matrix(np.load(\"A.npy\"))\n",
    "d = np.zeros(A.shape[0])\n",
    "\n",
    "for i in range(25):\n",
    "    d[np.random.randint(0, A.shape[0])] = np.random.randint(-1, 2)"
   ]
  },
  {
   "cell_type": "code",
   "execution_count": 4,
   "metadata": {
    "collapsed": false
   },
   "outputs": [
    {
     "name": "stderr",
     "output_type": "stream",
     "text": [
      "C:\\Anaconda3\\lib\\site-packages\\sklearn\\utils\\validation.py:420: DataConversionWarning: Data with input dtype int32 was converted to float64 by the normalize function.\n",
      "  warnings.warn(msg, DataConversionWarning)\n",
      "C:\\Anaconda3\\lib\\site-packages\\sklearn\\utils\\validation.py:420: DataConversionWarning: Data with input dtype int32 was converted to float64 by the normalize function.\n",
      "  warnings.warn(msg, DataConversionWarning)\n"
     ]
    }
   ],
   "source": [
    "# preprocessing\n",
    "\n",
    "F = sklearn.preprocessing.normalize(A, axis=1, norm='l1')\n",
    "B = sklearn.preprocessing.normalize(A.T, axis=1, norm='l1')"
   ]
  },
  {
   "cell_type": "code",
   "execution_count": 5,
   "metadata": {
    "collapsed": true
   },
   "outputs": [],
   "source": [
    "a1 = 0.7\n",
    "a2 = 0.7\n",
    "a3 = 0.7"
   ]
  },
  {
   "cell_type": "code",
   "execution_count": 6,
   "metadata": {
    "collapsed": false
   },
   "outputs": [],
   "source": [
    "# we are looking for solution x == T(x)\n",
    "\n",
    "def T(F, B, d, x):\n",
    "    return a1 * F.dot(x.clip(0)) + a2 * B.dot(x.clip(-np.inf, 0)) + a3 * d"
   ]
  },
  {
   "cell_type": "code",
   "execution_count": 7,
   "metadata": {
    "collapsed": false
   },
   "outputs": [],
   "source": [
    "def h(x):\n",
    "    ans = np.zeros_like(x)\n",
    "    ans[x > 0.0] = 1.0\n",
    "    return ans"
   ]
  },
  {
   "cell_type": "code",
   "execution_count": 8,
   "metadata": {
    "collapsed": true
   },
   "outputs": [],
   "source": [
    "def obj(F, B, d, x):\n",
    "    return np.linalg.norm(x - T(F, B, d, x)) ** 2 / 2"
   ]
  },
  {
   "cell_type": "code",
   "execution_count": 9,
   "metadata": {
    "collapsed": true
   },
   "outputs": [],
   "source": [
    "def Jac(F, B, d, x):\n",
    "    return sp.sparse.eye(F.shape[0], format='csr') - a1 * F.multiply(sp.sparse.csc_matrix(h(x).reshape(-1, 1))) - a2 * B.multiply(sp.sparse.csc_matrix(h(-x).reshape(-1, 1)))"
   ]
  },
  {
   "cell_type": "code",
   "execution_count": 10,
   "metadata": {
    "collapsed": false
   },
   "outputs": [],
   "source": [
    "def der(F, B, d, x):\n",
    "    l = x - T(F, B, d, x)\n",
    "    return Jac(F, B, d, x).T.dot(l)"
   ]
  },
  {
   "cell_type": "code",
   "execution_count": 11,
   "metadata": {
    "collapsed": true
   },
   "outputs": [],
   "source": [
    "def Hess(F, B, d, x):\n",
    "    return Jac(F, B, d, x).T.dot(Jac(F, B, d, x))"
   ]
  },
  {
   "cell_type": "code",
   "execution_count": 19,
   "metadata": {
    "collapsed": false
   },
   "outputs": [],
   "source": [
    "def VanillaNewton(F, B, d, maxiter=200, x0=None, tol=1e-8):\n",
    "    if x0 is None:\n",
    "        x_prev = d.copy()\n",
    "    else:\n",
    "        x_prev = x0.copy()\n",
    "\n",
    "    for k in range(maxiter):\n",
    "        dx, info = sp.sparse.linalg.gmres(Hess(F, B, d, x_prev), -der(F, B, d, x_prev))\n",
    "        x_next = x_prev + dx\n",
    "        if obj(F, B, d, x_next) < tol:\n",
    "            break\n",
    "        x_prev = x_next.copy()\n",
    "\n",
    "    ans = x_next.copy()\n",
    "    return k + 1, ans"
   ]
  },
  {
   "cell_type": "code",
   "execution_count": 25,
   "metadata": {
    "collapsed": false
   },
   "outputs": [
    {
     "name": "stdout",
     "output_type": "stream",
     "text": [
      "1.11321367264 0.0299013301275\n"
     ]
    }
   ],
   "source": [
    "tt = np.empty(100)\n",
    "\n",
    "for i in range(len(tt)):\n",
    "    begin = time.time()\n",
    "    k, ans_VN = VanillaNewton(F, B, d)\n",
    "    end = time.time()\n",
    "    tt[i] = end - begin\n",
    "\n",
    "print(np.mean(tt), np.std(tt, ddof=1))"
   ]
  },
  {
   "cell_type": "code",
   "execution_count": 48,
   "metadata": {
    "collapsed": false
   },
   "outputs": [],
   "source": [
    "VN_mean = np.empty(10)\n",
    "VN_var = np.empty(10)\n",
    "j = 0\n",
    "\n",
    "for i in np.logspace(0, -8, num=10):\n",
    "\n",
    "    tt = np.empty(30)\n",
    "\n",
    "    for k in range(len(tt)):\n",
    "        begin = time.time()\n",
    "        k, ans = VanillaNewton(F, B, d, tol=i)\n",
    "        end = time.time()\n",
    "        tt[k] = end - begin\n",
    "\n",
    "    VN_mean[j] = np.mean(tt)\n",
    "    VN_var[j] = np.std(tt, ddof=1)\n",
    "    j += 1"
   ]
  },
  {
   "cell_type": "code",
   "execution_count": 15,
   "metadata": {
    "collapsed": true
   },
   "outputs": [],
   "source": [
    "# RepRank\n",
    "\n",
    "def RepRank(F, B, d, maxiter=200, x0=None, tol=1e-8):\n",
    "    if x0 is None:\n",
    "        x_prev = d.copy()\n",
    "    else:\n",
    "        x_prev = x0.copy()\n",
    "\n",
    "    for k in range(maxiter):\n",
    "        x_next = T(F, B, d, x_prev)\n",
    "        if obj(F, B, d, x_next) < tol:\n",
    "            break\n",
    "        x_prev = x_next\n",
    "\n",
    "    ans = x_next.copy()\n",
    "    return k + 1, ans"
   ]
  },
  {
   "cell_type": "code",
   "execution_count": 24,
   "metadata": {
    "collapsed": false
   },
   "outputs": [
    {
     "name": "stdout",
     "output_type": "stream",
     "text": [
      "0.0135707759857 0.00231936306277\n"
     ]
    }
   ],
   "source": [
    "tt = np.empty(100)\n",
    "\n",
    "for i in range(len(tt)):\n",
    "    begin = time.time()\n",
    "    k, ans_RR = RepRank(F, B, d)\n",
    "    end = time.time()\n",
    "    tt[i] = end - begin\n",
    "\n",
    "print(np.mean(tt), np.std(tt, ddof=1))"
   ]
  },
  {
   "cell_type": "code",
   "execution_count": 43,
   "metadata": {
    "collapsed": false
   },
   "outputs": [],
   "source": [
    "RR_mean = np.empty(10)\n",
    "RR_var = np.empty(10)\n",
    "j = 0\n",
    "\n",
    "for i in np.logspace(0, -8, num=10):\n",
    "\n",
    "    tt = np.empty(30)\n",
    "\n",
    "    for k in range(len(tt)):\n",
    "        begin = time.time()\n",
    "        k, ans = RepRank(F, B, d, tol=i)\n",
    "        end = time.time()\n",
    "        tt[k] = end - begin\n",
    "\n",
    "    RR_mean[j] = np.mean(tt)\n",
    "    RR_var[j] = np.std(tt, ddof=1)\n",
    "    j += 1"
   ]
  },
  {
   "cell_type": "code",
   "execution_count": 53,
   "metadata": {
    "collapsed": false
   },
   "outputs": [
    {
     "data": {
      "text/plain": [
       "array([ 0.00328653,  0.00693644,  0.01533028,  0.03229697,  0.05520742,\n",
       "        0.0766028 ,  0.10447568,  0.13257602,  0.16921695,  0.22795559])"
      ]
     },
     "execution_count": 53,
     "metadata": {},
     "output_type": "execute_result"
    }
   ],
   "source": [
    "VN_var"
   ]
  },
  {
   "cell_type": "code",
   "execution_count": 57,
   "metadata": {
    "collapsed": false
   },
   "outputs": [
    {
     "data": {
      "image/png": "[encoded data removed]",
      "text/plain": [
       "<matplotlib.figure.Figure at 0xab786f0>"
      ]
     },
     "metadata": {},
     "output_type": "display_data"
    }
   ],
   "source": [
    "plt.errorbar(np.logspace(0, -8, num=10), RR_mean, yerr=[np.zeros_like(RR_var), 3 * RR_var], label=\"Fixed-point\")\n",
    "#plt.plot(np.logspace(0, -11), RR_mean, label=\"Fixed-point\")\n",
    "plt.errorbar(np.logspace(0, -8, num=10), VN_mean, yerr=[np.zeros_like(VN_var), 3 * VN_var], label=\"Newton\")\n",
    "#plt.plot(np.logspace(0, -11), N_mean, label=\"Newton\")\n",
    "\n",
    "plt.xscale(\"log\")\n",
    "plt.xlabel(\"Tolerance\")\n",
    "plt.yscale(\"log\")\n",
    "plt.ylabel(\"Time, sec\")\n",
    "plt.title(\"Performance comparison\\nfor RepRank via fixed-point iteration\\nand RepRank via Newton optimization\")\n",
    "plt.grid()\n",
    "plt.legend(loc=\"best\")\n",
    "plt.show()"
   ]
  },
  {
   "cell_type": "code",
   "execution_count": 12,
   "metadata": {
    "collapsed": true
   },
   "outputs": [],
   "source": [
    "def LineSearch(x, dx):\n",
    "    alpha = obj(x) / np.linalg.norm(dx) ** 2\n",
    "    while True:\n",
    "        if obj(x + alpha * dx) < obj(x):\n",
    "            return x + alpha * dx\n",
    "        else:\n",
    "            alpha /= 2"
   ]
  }
 ],
 "metadata": {
  "anaconda-cloud": {},
  "kernelspec": {
   "display_name": "Python [default]",
   "language": "python",
   "name": "python3"
  },
  "language_info": {
   "codemirror_mode": {
    "name": "ipython",
    "version": 3
   },
   "file_extension": ".py",
   "mimetype": "text/x-python",
   "name": "python",
   "nbconvert_exporter": "python",
   "pygments_lexer": "ipython3",
   "version": "3.5.2"
  }
 },
 "nbformat": 4,
 "nbformat_minor": 1
}
