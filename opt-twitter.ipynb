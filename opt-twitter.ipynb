{
 "cells": [
  {
   "cell_type": "code",
   "execution_count": 1,
   "metadata": {
    "collapsed": false
   },
   "outputs": [],
   "source": [
    "import numpy as np\n",
    "\n",
    "import scipy as sp\n",
    "import scipy.sparse\n",
    "import scipy.sparse.linalg\n",
    "\n",
    "import sklearn\n",
    "import sklearn.preprocessing\n",
    "\n",
    "import matplotlib\n",
    "import matplotlib.pyplot as plt\n",
    "%matplotlib inline\n",
    "\n",
    "import pickle\n",
    "import time\n",
    "import random\n",
    "import webbrowser"
   ]
  },
  {
   "cell_type": "code",
   "execution_count": 2,
   "metadata": {
    "collapsed": true
   },
   "outputs": [],
   "source": [
    "# twitter dataset\n",
    "\n",
    "with open(\"ovchinnikov-rutwitterdataset/A.pkl\", \"rb\") as file:\n",
    "    A = np.load(file, encoding=\"latin1\")\n",
    "\n",
    "with open(\"ovchinnikov-rutwitterdataset/labeled_nodes.pkl\", \"rb\") as file:\n",
    "    labels = np.load(file, encoding=\"latin1\")\n",
    "\n",
    "with open(\"ovchinnikov-rutwitterdataset/i2t.pkl\", \"rb\") as file:\n",
    "    i2t = pickle.load(file)\n",
    "\n",
    "with open(\"ovchinnikov-rutwitterdataset/t2i.pkl\", \"rb\") as file:\n",
    "    t2i = pickle.load(file)"
   ]
  },
  {
   "cell_type": "code",
   "execution_count": 3,
   "metadata": {
    "collapsed": false
   },
   "outputs": [
    {
     "name": "stderr",
     "output_type": "stream",
     "text": [
      "C:\\Anaconda3\\lib\\site-packages\\sklearn\\utils\\validation.py:420: DataConversionWarning: Data with input dtype int8 was converted to float64 by the normalize function.\n",
      "  warnings.warn(msg, DataConversionWarning)\n",
      "C:\\Anaconda3\\lib\\site-packages\\sklearn\\utils\\validation.py:420: DataConversionWarning: Data with input dtype int8 was converted to float64 by the normalize function.\n",
      "  warnings.warn(msg, DataConversionWarning)\n"
     ]
    }
   ],
   "source": [
    "# preprocessing\n",
    "\n",
    "F = sklearn.preprocessing.normalize(A, axis=1, norm='l1')\n",
    "B = sklearn.preprocessing.normalize(A.T, axis=1, norm='l1')\n",
    "d = np.array(labels.todense())[:, 0]\n",
    "\n",
    "Fcsc = F.tocsc()\n",
    "Bcsc = B.tocsc()"
   ]
  },
  {
   "cell_type": "code",
   "execution_count": 4,
   "metadata": {
    "collapsed": false
   },
   "outputs": [
    {
     "name": "stdout",
     "output_type": "stream",
     "text": [
      "Spam nodes:\t2749\n",
      "Not spam nodes:\t375\n",
      "Spam nodes (80%):\t2200\n",
      "Not spam nodes (80%):\t300\n"
     ]
    }
   ],
   "source": [
    "# data for cross-validation\n",
    "\n",
    "n_n_elements = d[d < 0].shape[0]\n",
    "n_p_elements = d[d > 0].shape[0]\n",
    "\n",
    "print(\"Spam nodes:\\t{}\".format(n_n_elements))\n",
    "print(\"Not spam nodes:\\t{}\".format(n_p_elements))\n",
    "\n",
    "n_indices = random.sample(np.where(d < 0)[0].tolist(), int(n_n_elements * .20 // 1))  # random indices of 20% negative\n",
    "p_indices = random.sample(np.where(d > 0)[0].tolist(), int(n_p_elements * .20 // 1))  # random indices of 20% positive\n",
    "\n",
    "d_CV = d.copy()\n",
    "d_CV[n_indices] = 0\n",
    "d_CV[p_indices] = 0\n",
    "\n",
    "print(\"Spam nodes (80%):\\t{}\".format(d_CV[d_CV < 0].shape[0]))\n",
    "print(\"Not spam nodes (80%):\\t{}\".format(d_CV[d_CV > 0].shape[0]))\n",
    "\n",
    "def CV(x):\n",
    "    return (sum(x[p_indices] > 0) + sum(x[n_indices] < 0)) / (len(p_indices) + len(n_indices))"
   ]
  },
  {
   "cell_type": "code",
   "execution_count": 5,
   "metadata": {
    "collapsed": true
   },
   "outputs": [],
   "source": [
    "a1 = 0.7\n",
    "a2 = 0.7\n",
    "a3 = 0.7"
   ]
  },
  {
   "cell_type": "code",
   "execution_count": 6,
   "metadata": {
    "collapsed": false
   },
   "outputs": [],
   "source": [
    "# we are looking for solution x == T(x)\n",
    "\n",
    "def T(F, B, d, x):\n",
    "    return a1 * F.dot(x.clip(0)) + a2 * B.dot(x.clip(-np.inf, 0)) + a3 * d"
   ]
  },
  {
   "cell_type": "code",
   "execution_count": 7,
   "metadata": {
    "collapsed": false
   },
   "outputs": [],
   "source": [
    "def h(x):\n",
    "    ans = np.zeros_like(x)\n",
    "    ans[x > 0.0] = 1.0\n",
    "    return ans"
   ]
  },
  {
   "cell_type": "code",
   "execution_count": 8,
   "metadata": {
    "collapsed": true
   },
   "outputs": [],
   "source": [
    "def obj(F, B, d, x):\n",
    "    return np.linalg.norm(x - T(F, B, d, x)) ** 2 / 2"
   ]
  },
  {
   "cell_type": "code",
   "execution_count": 9,
   "metadata": {
    "collapsed": true
   },
   "outputs": [],
   "source": [
    "def Jac(F, B, d, x):\n",
    "    return sp.sparse.eye(F.shape[0], format='csr') - a1 * F.multiply(sp.sparse.csc_matrix(h(x).reshape(-1, 1))) - a2 * B.multiply(sp.sparse.csc_matrix(h(-x).reshape(-1, 1)))"
   ]
  },
  {
   "cell_type": "code",
   "execution_count": 10,
   "metadata": {
    "collapsed": false
   },
   "outputs": [],
   "source": [
    "def der(F, B, d, x):\n",
    "    l = x - T(F, B, d, x)\n",
    "    return Jac(F, B, d, x).T.dot(l)"
   ]
  },
  {
   "cell_type": "code",
   "execution_count": 11,
   "metadata": {
    "collapsed": true
   },
   "outputs": [],
   "source": [
    "def Hess(F, B, d, x):\n",
    "    def matvec(x):\n",
    "        return matvec.Jt.dot(matvec.J.dot(x))\n",
    "    matvec.Jt = Jac(F, B, d, x).T.tocsr()\n",
    "    matvec.J = Jac(F, B, d, x).tocsr()\n",
    "    return sp.sparse.linalg.LinearOperator(F.shape, matvec)"
   ]
  },
  {
   "cell_type": "code",
   "execution_count": 12,
   "metadata": {
    "collapsed": true
   },
   "outputs": [],
   "source": [
    "def LineSearch(F, B, d, x, dx):\n",
    "    alpha = 1.0\n",
    "    while alpha + 1.0 != 1.0:\n",
    "        ans = x + alpha * dx\n",
    "        if obj(F, B, d, ans) < obj(F, B, d, x):\n",
    "            return ans\n",
    "        else:\n",
    "            alpha /= 2\n",
    "    raise Exception(\"Machine precision achieved!\")"
   ]
  },
  {
   "cell_type": "code",
   "execution_count": 13,
   "metadata": {
    "collapsed": true
   },
   "outputs": [],
   "source": [
    "# Newton\n",
    "\n",
    "def Newton(F, B, d, maxiter=100, x0=None, tol=1e-5, callback=None):\n",
    "    if x0 is None:\n",
    "        x_prev = d.copy()\n",
    "    else:\n",
    "        x_prev = x0.copy()\n",
    "\n",
    "    for k in range(maxiter):\n",
    "        dx, info = sp.sparse.linalg.cg(Hess(F, B, d, x_prev), -der(F, B, d, x_prev))\n",
    "        x_next = LineSearch(F, B, d, x_prev, dx)\n",
    "        if callback is not None:\n",
    "            callback(k + 1, x_next)\n",
    "        if np.linalg.norm(der(F, B, d, x_next)) < tol:\n",
    "            break\n",
    "        x_prev = x_next.copy()\n",
    "\n",
    "    return (k + 1), x_next.copy()"
   ]
  },
  {
   "cell_type": "code",
   "execution_count": 14,
   "metadata": {
    "collapsed": false
   },
   "outputs": [],
   "source": [
    "file = open(\"callback.txt\", \"w\")\n",
    "file.write(\"Iter\\tErr\\tCV\\tDer\\n\")\n",
    "\n",
    "def cbk(k, x):\n",
    "    file.write(\"{}\\t{}\\t{}\\t{}\\n\".format(str(k), str(np.linalg.norm(x - T(F, B, d_CV, x))), str(CV(x)), str(np.linalg.norm(der(F, B, d_CV, x)))))"
   ]
  },
  {
   "cell_type": "code",
   "execution_count": 15,
   "metadata": {
    "collapsed": false
   },
   "outputs": [],
   "source": [
    "k, ans = Newton(F, B, d_CV, tol=1e-2, callback=cbk)"
   ]
  },
  {
   "cell_type": "code",
   "execution_count": 16,
   "metadata": {
    "collapsed": false
   },
   "outputs": [],
   "source": [
    "file.close()"
   ]
  },
  {
   "cell_type": "code",
   "execution_count": 17,
   "metadata": {
    "collapsed": true
   },
   "outputs": [],
   "source": [
    "np.save(\"1\", ans)"
   ]
  },
  {
   "cell_type": "code",
   "execution_count": null,
   "metadata": {
    "collapsed": true
   },
   "outputs": [],
   "source": [
    "# RepRank via Newton answer\n",
    "\n",
    "k, ans = Newton(F, B, d, tol=1e-2)\n",
    "print(\"Required numeber of iterations for original RepRank: {}.\".format(str(k)))\n",
    "\n",
    "for i in list(map(i2t.get, ans.argsort(axis=0)[::-1][:3].tolist())):\n",
    "    webbrowser.open_new_tab(\"https://twitter.com/intent/user?user_id={}\".format(str(i)))\n",
    "\n",
    "for i in list(map(i2t.get, ans.argsort(axis=0)[::-1][-3:].tolist())):\n",
    "    webbrowser.open_new_tab(\"https://twitter.com/intent/user?user_id={}\".format(str(i)))"
   ]
  },
  {
   "cell_type": "code",
   "execution_count": 21,
   "metadata": {
    "collapsed": true
   },
   "outputs": [],
   "source": [
    "# RepRank\n",
    "\n",
    "def RepRank(F, B, d, maxiter=200, x0=None, tol=1e-8, callback=None):\n",
    "    if x0 is None:\n",
    "        x_prev = d.copy()\n",
    "    else:\n",
    "        x_prev = x0.copy()\n",
    "\n",
    "    for k in range(maxiter):\n",
    "        x_next = T(F, B, d, x_prev)\n",
    "        n = np.linalg.norm(x_next - x_prev)\n",
    "        if callback is not None:\n",
    "            callback(x_next, n)\n",
    "        if n < tol:\n",
    "            break\n",
    "        x_prev = x_next\n",
    "\n",
    "    ans = x_next.copy()\n",
    "    return(k + 1, ans.reshape(-1,))"
   ]
  },
  {
   "cell_type": "code",
   "execution_count": 22,
   "metadata": {
    "collapsed": true
   },
   "outputs": [],
   "source": [
    "# original RepRank answer\n",
    "\n",
    "k, ans = RepRank(F, B, d)\n",
    "print(\"Required numeber of iterations for original RepRank: {}.\".format(str(k)))\n",
    "\n",
    "for i in list(map(i2t.get, ans.argsort(axis=0)[::-1][:3].tolist())):\n",
    "    webbrowser.open_new_tab(\"https://twitter.com/intent/user?user_id={}\".format(str(i)))\n",
    "\n",
    "for i in list(map(i2t.get, ans.argsort(axis=0)[::-1][-3:].tolist())):\n",
    "    webbrowser.open_new_tab(\"https://twitter.com/intent/user?user_id={}\".format(str(i)))"
   ]
  }
 ],
 "metadata": {
  "anaconda-cloud": {},
  "kernelspec": {
   "display_name": "Python [default]",
   "language": "python",
   "name": "python3"
  },
  "language_info": {
   "codemirror_mode": {
    "name": "ipython",
    "version": 3
   },
   "file_extension": ".py",
   "mimetype": "text/x-python",
   "name": "python",
   "nbconvert_exporter": "python",
   "pygments_lexer": "ipython3",
   "version": "3.5.2"
  }
 },
 "nbformat": 4,
 "nbformat_minor": 1
}
