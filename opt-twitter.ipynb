{
 "cells": [
  {
   "cell_type": "code",
   "execution_count": 1,
   "metadata": {
    "collapsed": false
   },
   "outputs": [],
   "source": [
    "import numpy as np\n",
    "\n",
    "import scipy as sp\n",
    "import scipy.sparse\n",
    "import scipy.sparse.linalg\n",
    "\n",
    "import sklearn\n",
    "import sklearn.preprocessing\n",
    "\n",
    "import matplotlib\n",
    "import matplotlib.pyplot as plt\n",
    "%matplotlib inline\n",
    "\n",
    "import pickle\n",
    "import networkx as nx"
   ]
  },
  {
   "cell_type": "code",
   "execution_count": 2,
   "metadata": {
    "collapsed": true
   },
   "outputs": [],
   "source": [
    "# twitter dataset\n",
    "\n",
    "with open(\"ovchinnikov-rutwitterdataset/A.pkl\", \"rb\") as file:\n",
    "    A = np.load(file, encoding=\"latin1\")\n",
    "\n",
    "with open(\"ovchinnikov-rutwitterdataset/labeled_nodes.pkl\", \"rb\") as file:\n",
    "    labels = np.load(file, encoding=\"latin1\")\n",
    "\n",
    "with open(\"ovchinnikov-rutwitterdataset/i2t.pkl\", \"rb\") as file:\n",
    "    i2t = pickle.load(file)\n",
    "\n",
    "with open(\"ovchinnikov-rutwitterdataset/t2i.pkl\", \"rb\") as file:\n",
    "    t2i = pickle.load(file)"
   ]
  },
  {
   "cell_type": "code",
   "execution_count": 3,
   "metadata": {
    "collapsed": false
   },
   "outputs": [
    {
     "name": "stderr",
     "output_type": "stream",
     "text": [
      "C:\\Anaconda3\\lib\\site-packages\\sklearn\\utils\\validation.py:420: DataConversionWarning: Data with input dtype int8 was converted to float64 by the normalize function.\n",
      "  warnings.warn(msg, DataConversionWarning)\n",
      "C:\\Anaconda3\\lib\\site-packages\\sklearn\\utils\\validation.py:420: DataConversionWarning: Data with input dtype int8 was converted to float64 by the normalize function.\n",
      "  warnings.warn(msg, DataConversionWarning)\n"
     ]
    }
   ],
   "source": [
    "# preprocessing\n",
    "\n",
    "F = sklearn.preprocessing.normalize(A, axis=1, norm='l1')\n",
    "B = sklearn.preprocessing.normalize(A.T, axis=1, norm='l1')\n",
    "d = np.array(labels.todense())[:, 0]"
   ]
  },
  {
   "cell_type": "code",
   "execution_count": 4,
   "metadata": {
    "collapsed": true
   },
   "outputs": [],
   "source": [
    "a1 = 0.7\n",
    "a2 = 0.7\n",
    "a3 = 0.7"
   ]
  },
  {
   "cell_type": "code",
   "execution_count": 5,
   "metadata": {
    "collapsed": false
   },
   "outputs": [],
   "source": [
    "# we are looking for solution x == T(x)\n",
    "\n",
    "def T(F, B, d, x):\n",
    "    return a1 * F.dot(x.clip(0)) + a2 * B.dot(x.clip(-np.inf, 0)) + a3 * d"
   ]
  },
  {
   "cell_type": "code",
   "execution_count": 6,
   "metadata": {
    "collapsed": false
   },
   "outputs": [],
   "source": [
    "def h(x):\n",
    "    ans = np.zeros_like(x)\n",
    "    ans[x > 0.0] = 1.0\n",
    "    return ans"
   ]
  },
  {
   "cell_type": "code",
   "execution_count": 7,
   "metadata": {
    "collapsed": true
   },
   "outputs": [],
   "source": [
    "def obj(x):\n",
    "    return np.linalg.norm(x - T(F, B, d, x)) ** 2 / 2"
   ]
  },
  {
   "cell_type": "code",
   "execution_count": 8,
   "metadata": {
    "collapsed": true
   },
   "outputs": [],
   "source": [
    "def Jac(x):\n",
    "    return sp.sparse.eye(F.shape[0], format='csr') - a1 * F.multiply(sp.sparse.csc_matrix(h(x).reshape(-1, 1))) - a2 * B.multiply(sp.sparse.csc_matrix(h(-x).reshape(-1, 1)))"
   ]
  },
  {
   "cell_type": "code",
   "execution_count": 11,
   "metadata": {
    "collapsed": false
   },
   "outputs": [],
   "source": [
    "def der(x):\n",
    "    l = x - T(F, B, d, x)\n",
    "    return Jac(x).T.dot(l)"
   ]
  },
  {
   "cell_type": "code",
   "execution_count": 12,
   "metadata": {
    "collapsed": true
   },
   "outputs": [],
   "source": [
    "def Hess(x):\n",
    "    return Jac(x).T.dot(Jac(x))"
   ]
  },
  {
   "cell_type": "code",
   "execution_count": 12,
   "metadata": {
    "collapsed": true
   },
   "outputs": [],
   "source": [
    "def LineSearch(x, dx):\n",
    "    alpha = obj(x) / np.linalg.norm(dx) ** 2\n",
    "    while True:\n",
    "        if obj(x + alpha * dx) < obj(x):\n",
    "            return x + alpha * dx\n",
    "        else:\n",
    "            alpha /= 2"
   ]
  },
  {
   "cell_type": "code",
   "execution_count": null,
   "metadata": {
    "collapsed": false
   },
   "outputs": [],
   "source": [
    "x_prev = d.copy()\n",
    "x_next = x_prev.copy()\n",
    "\n",
    "for k in range(100):\n",
    "    d = sp.sparse.linalg.spsolve(Hess(x_prev), -der(x_prev))\n",
    "    #x_next = LineSearch(x_prev, -dx)\n",
    "    x_next = x_prev + d\n",
    "    if obj(x_next) < 1.0:\n",
    "        break\n",
    "    print(k, obj(x_next))\n",
    "    x_prev = x_next.copy()"
   ]
  },
  {
   "cell_type": "code",
   "execution_count": 13,
   "metadata": {
    "collapsed": false
   },
   "outputs": [
    {
     "data": {
      "text/plain": [
       "array([ 0.,  0.,  0., ...,  0.,  0.,  0.])"
      ]
     },
     "execution_count": 13,
     "metadata": {},
     "output_type": "execute_result"
    }
   ],
   "source": [
    "der(d)"
   ]
  },
  {
   "cell_type": "code",
   "execution_count": 14,
   "metadata": {
    "collapsed": false
   },
   "outputs": [
    {
     "data": {
      "text/plain": [
       "<326130x326130 sparse matrix of type '<class 'numpy.float64'>'\n",
       "\twith 7982796 stored elements in Compressed Sparse Column format>"
      ]
     },
     "execution_count": 14,
     "metadata": {},
     "output_type": "execute_result"
    }
   ],
   "source": [
    "Hess(d)"
   ]
  },
  {
   "cell_type": "code",
   "execution_count": 21,
   "metadata": {
    "collapsed": true
   },
   "outputs": [],
   "source": [
    "# RepRank\n",
    "\n",
    "def RepRank(F, B, d, maxiter=200, x0=None, tol=1e-8, callback=None):\n",
    "    if x0 is None:\n",
    "        x_prev = d.copy()\n",
    "    else:\n",
    "        x_prev = x0.copy()\n",
    "\n",
    "    for k in range(maxiter):\n",
    "        x_next = T(F, B, d, x_prev)\n",
    "        n = np.linalg.norm(x_next - x_prev)\n",
    "        if callback is not None:\n",
    "            callback(x_next, n)\n",
    "        if n < tol:\n",
    "            break\n",
    "        x_prev = x_next\n",
    "\n",
    "    ans = x_next.copy()\n",
    "    return(k + 1, ans.reshape(-1,))"
   ]
  },
  {
   "cell_type": "code",
   "execution_count": 22,
   "metadata": {
    "collapsed": true
   },
   "outputs": [],
   "source": [
    "k, ans = RepRank(F, B, d)"
   ]
  },
  {
   "cell_type": "code",
   "execution_count": 34,
   "metadata": {
    "collapsed": false
   },
   "outputs": [
    {
     "data": {
      "text/plain": [
       "3.7241004357451673e-09"
      ]
     },
     "execution_count": 34,
     "metadata": {},
     "output_type": "execute_result"
    }
   ],
   "source": [
    "np.linalg.norm(der(ans))"
   ]
  }
 ],
 "metadata": {
  "anaconda-cloud": {},
  "kernelspec": {
   "display_name": "Python [default]",
   "language": "python",
   "name": "python3"
  },
  "language_info": {
   "codemirror_mode": {
    "name": "ipython",
    "version": 3
   },
   "file_extension": ".py",
   "mimetype": "text/x-python",
   "name": "python",
   "nbconvert_exporter": "python",
   "pygments_lexer": "ipython3",
   "version": "3.5.2"
  }
 },
 "nbformat": 4,
 "nbformat_minor": 1
}
