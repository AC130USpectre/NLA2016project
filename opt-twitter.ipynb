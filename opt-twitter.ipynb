{
 "cells": [
  {
   "cell_type": "code",
   "execution_count": 7,
   "metadata": {
    "collapsed": false
   },
   "outputs": [],
   "source": [
    "import numpy as np\n",
    "\n",
    "import scipy as sp\n",
    "import scipy.sparse\n",
    "import scipy.sparse.linalg\n",
    "\n",
    "import sklearn\n",
    "import sklearn.preprocessing\n",
    "\n",
    "import pickle\n",
    "import random\n",
    "import newton\n",
    "import webbrowser"
   ]
  },
  {
   "cell_type": "code",
   "execution_count": 8,
   "metadata": {
    "collapsed": false
   },
   "outputs": [],
   "source": [
    "# twitter dataset\n",
    "\n",
    "with open(\"ovchinnikov-rutwitterdataset/A.pkl\", \"rb\") as file:\n",
    "    A = np.load(file, encoding=\"latin1\")\n",
    "\n",
    "with open(\"ovchinnikov-rutwitterdataset/labeled_nodes.pkl\", \"rb\") as file:\n",
    "    labels = np.load(file, encoding=\"latin1\")\n",
    "\n",
    "with open(\"ovchinnikov-rutwitterdataset/i2t.pkl\", \"rb\") as file:\n",
    "    i2t = pickle.load(file)\n",
    "\n",
    "with open(\"ovchinnikov-rutwitterdataset/t2i.pkl\", \"rb\") as file:\n",
    "    t2i = pickle.load(file)"
   ]
  },
  {
   "cell_type": "code",
   "execution_count": 9,
   "metadata": {
    "collapsed": false
   },
   "outputs": [
    {
     "name": "stderr",
     "output_type": "stream",
     "text": [
      "C:\\Anaconda3\\lib\\site-packages\\sklearn\\utils\\validation.py:420: DataConversionWarning: Data with input dtype int8 was converted to float64 by the normalize function.\n",
      "  warnings.warn(msg, DataConversionWarning)\n",
      "C:\\Anaconda3\\lib\\site-packages\\sklearn\\utils\\validation.py:420: DataConversionWarning: Data with input dtype int8 was converted to float64 by the normalize function.\n",
      "  warnings.warn(msg, DataConversionWarning)\n"
     ]
    }
   ],
   "source": [
    "# preprocessing\n",
    "\n",
    "F = sklearn.preprocessing.normalize(A, axis=1, norm='l1')\n",
    "B = sklearn.preprocessing.normalize(A.T, axis=1, norm='l1')\n",
    "d = np.array(labels.todense())[:, 0]\n",
    "\n",
    "Fcsc = F.tocsc()\n",
    "Bcsc = B.tocsc()"
   ]
  },
  {
   "cell_type": "code",
   "execution_count": 10,
   "metadata": {
    "collapsed": false
   },
   "outputs": [
    {
     "name": "stdout",
     "output_type": "stream",
     "text": [
      "Spam nodes:\t2749\n",
      "Not spam nodes:\t375\n",
      "Spam nodes (80%):\t2200\n",
      "Not spam nodes (80%):\t300\n"
     ]
    }
   ],
   "source": [
    "# data for cross-validation\n",
    "\n",
    "n_n_elements = d[d < 0].shape[0]\n",
    "n_p_elements = d[d > 0].shape[0]\n",
    "\n",
    "print(\"Spam nodes:\\t{}\".format(n_n_elements))\n",
    "print(\"Not spam nodes:\\t{}\".format(n_p_elements))\n",
    "\n",
    "n_indices = random.sample(np.where(d < 0)[0].tolist(), int(n_n_elements * .20 // 1))  # random indices of 20% negative\n",
    "p_indices = random.sample(np.where(d > 0)[0].tolist(), int(n_p_elements * .20 // 1))  # random indices of 20% positive\n",
    "\n",
    "d_CV = d.copy()\n",
    "d_CV[n_indices] = 0\n",
    "d_CV[p_indices] = 0\n",
    "\n",
    "print(\"Spam nodes (80%):\\t{}\".format(d_CV[d_CV < 0].shape[0]))\n",
    "print(\"Not spam nodes (80%):\\t{}\".format(d_CV[d_CV > 0].shape[0]))\n",
    "\n",
    "def CV(x):\n",
    "    return float(sum(x[p_indices] > 0) + sum(x[n_indices] < 0)) / (len(p_indices) + len(n_indices))"
   ]
  },
  {
   "cell_type": "code",
   "execution_count": 14,
   "metadata": {
    "collapsed": false
   },
   "outputs": [],
   "source": [
    "file = open(\"callback.txt\", \"w\")\n",
    "file.write(\"Iter\\tErr\\tCV\\tDer\\n\")\n",
    "\n",
    "def cbk(k, x):\n",
    "    file.write(\"{}\\t{}\\t{}\\t{}\\n\".format(str(k), str(np.linalg.norm(x - newton.T(F, B, d_CV, x))), str(CV(x)), str(np.linalg.norm(newton.der(F, B, d_CV, x)))))"
   ]
  },
  {
   "cell_type": "code",
   "execution_count": 15,
   "metadata": {
    "collapsed": false
   },
   "outputs": [],
   "source": [
    "k, ans = newton.Newton(F, B, d_CV, tol=1e-1, callback=cbk)"
   ]
  },
  {
   "cell_type": "code",
   "execution_count": 16,
   "metadata": {
    "collapsed": false
   },
   "outputs": [],
   "source": [
    "file.close()"
   ]
  },
  {
   "cell_type": "code",
   "execution_count": 18,
   "metadata": {
    "collapsed": false
   },
   "outputs": [
    {
     "name": "stdout",
     "output_type": "stream",
     "text": [
      "Required numeber of iterations for original RepRank: 9.\n"
     ]
    }
   ],
   "source": [
    "# RepRank via Newton answer\n",
    "\n",
    "k, ans = newton.Newton(F, B, d, tol=1e-1)\n",
    "print(\"Required numeber of iterations for original RepRank: {}.\".format(str(k)))\n",
    "\n",
    "for i in list(map(i2t.get, ans.argsort(axis=0)[::-1][:3].tolist())):\n",
    "    webbrowser.open_new_tab(\"https://twitter.com/intent/user?user_id={}\".format(str(i)))\n",
    "\n",
    "for i in list(map(i2t.get, ans.argsort(axis=0)[::-1][-3:].tolist())):\n",
    "    webbrowser.open_new_tab(\"https://twitter.com/intent/user?user_id={}\".format(str(i)))"
   ]
  },
  {
   "cell_type": "code",
   "execution_count": 19,
   "metadata": {
    "collapsed": false
   },
   "outputs": [
    {
     "name": "stdout",
     "output_type": "stream",
     "text": [
      "Required numeber of iterations for original RepRank: 14.\n"
     ]
    }
   ],
   "source": [
    "# original RepRank answer\n",
    "\n",
    "k, ans = newton.RepRank(F, B, d, tol=1e-1)\n",
    "print(\"Required numeber of iterations for original RepRank: {}.\".format(str(k)))\n",
    "\n",
    "for i in list(map(i2t.get, ans.argsort(axis=0)[::-1][:3].tolist())):\n",
    "    webbrowser.open_new_tab(\"https://twitter.com/intent/user?user_id={}\".format(str(i)))\n",
    "\n",
    "for i in list(map(i2t.get, ans.argsort(axis=0)[::-1][-3:].tolist())):\n",
    "    webbrowser.open_new_tab(\"https://twitter.com/intent/user?user_id={}\".format(str(i)))"
   ]
  }
 ],
 "metadata": {
  "anaconda-cloud": {},
  "kernelspec": {
   "display_name": "Python [default]",
   "language": "python",
   "name": "python3"
  },
  "language_info": {
   "codemirror_mode": {
    "name": "ipython",
    "version": 3
   },
   "file_extension": ".py",
   "mimetype": "text/x-python",
   "name": "python",
   "nbconvert_exporter": "python",
   "pygments_lexer": "ipython3",
   "version": "3.5.2"
  }
 },
 "nbformat": 4,
 "nbformat_minor": 1
}
