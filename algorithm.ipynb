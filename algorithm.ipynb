{
 "cells": [
  {
   "cell_type": "code",
   "execution_count": 5,
   "metadata": {
    "collapsed": true
   },
   "outputs": [],
   "source": [
    "import numpy as np\n",
    "import scipy as sp\n",
    "import random\n",
    "import scipy.sparse\n",
    "import scipy.sparse.linalg\n",
    "import pickle\n",
    "import sklearn\n",
    "import sklearn.preprocessing\n",
    "import webbrowser"
   ]
  },
  {
   "cell_type": "code",
   "execution_count": 28,
   "metadata": {
    "collapsed": false
   },
   "outputs": [
    {
     "name": "stdout",
     "output_type": "stream",
     "text": [
      "Not spam nodes:\t2749\n",
      "Spam nodes:\t375\n",
      "Not spam nodes (80%):\t2475\n",
      "Spam nodes (80%):\t338\n"
     ]
    },
    {
     "name": "stderr",
     "output_type": "stream",
     "text": [
      "/Users/ko/anaconda/envs/py35/lib/python3.5/site-packages/sklearn/utils/validation.py:420: DataConversionWarning: Data with input dtype int8 was converted to float64 by the normalize function.\n",
      "  warnings.warn(msg, DataConversionWarning)\n",
      "/Users/ko/anaconda/envs/py35/lib/python3.5/site-packages/sklearn/utils/validation.py:420: DataConversionWarning: Data with input dtype int8 was converted to float64 by the normalize function.\n",
      "  warnings.warn(msg, DataConversionWarning)\n"
     ]
    }
   ],
   "source": [
    "# twitter\n",
    "\n",
    "with open(\"ovchinnikov-rutwitterdataset/A.pkl\", \"rb\") as file:\n",
    "    A = np.load(file, encoding=\"latin1\")\n",
    "\n",
    "with open(\"ovchinnikov-rutwitterdataset/labeled_nodes.pkl\", \"rb\") as file:\n",
    "    d = np.load(file, encoding=\"latin1\")\n",
    "\n",
    "with open(\"ovchinnikov-rutwitterdataset/i2t.pkl\", \"rb\") as file:\n",
    "    i2t = pickle.load(file)\n",
    "\n",
    "with open(\"ovchinnikov-rutwitterdataset/t2i.pkl\", \"rb\") as file:\n",
    "    t2i = pickle.load(file)\n",
    "    \n",
    "# preprocessing\n",
    "\n",
    "F = sklearn.preprocessing.normalize(A, axis=1, norm='l1')\n",
    "B = sklearn.preprocessing.normalize(A.T, axis=1, norm='l1')\n",
    "d = d.todense()\n",
    "\n",
    "\n",
    "# substracting 80% of values (20% for cross-validation)\n",
    "n_n_elements = d[d < 0].shape[1]\n",
    "n_p_elements = d[d > 0].shape[1]\n",
    "\n",
    "print(\"Not spam nodes:\\t{}\".format(n_n_elements))\n",
    "print(\"Spam nodes:\\t{}\".format(n_p_elements))\n",
    "\n",
    "n_indices = random.sample(np.where(d < 0)[0].tolist(), int(n_n_elements * .20 // 1))  # Random indices of 20% negative\n",
    "p_indices = random.sample(np.where(d > 0)[0].tolist(), int(n_p_elements * .20 // 1))  # Random indices of 20% positive\n",
    "d[n_indices] = 0\n",
    "d[p_indices] = 0\n",
    "\n",
    "print(\"Not spam nodes (80%):\\t{}\".format(d[d < 0].shape[1]))\n",
    "print(\"Spam nodes (80%):\\t{}\".format(d[d > 0].shape[1]))"
   ]
  },
  {
   "cell_type": "code",
   "execution_count": 29,
   "metadata": {
    "collapsed": false
   },
   "outputs": [],
   "source": [
    "# we are looking for solution x == T(x)\n",
    "\n",
    "def T(F, B, d, x, a1=0.7, a2=0.7, a3=0.7):\n",
    "    return a1 * F.dot(x.clip(0)) + a2 * B.dot(x.clip(-np.inf, 0)) + a3 * d"
   ]
  },
  {
   "cell_type": "code",
   "execution_count": 32,
   "metadata": {
    "collapsed": false
   },
   "outputs": [],
   "source": [
    "# original RepRank\n",
    "\n",
    "def repRank(F, B, d, maxiter=200, x0=None, tol=1e-8, cross_validator=None):\n",
    "    if x0 is None:\n",
    "        x_prev = d.copy()\n",
    "    else:\n",
    "        x_prev = x0.copy()\n",
    "\n",
    "    for k in range(maxiter):\n",
    "        x_next = T(F, B, d, x_prev)\n",
    "        if np.linalg.norm(x_next - x_prev) < tol:\n",
    "            break\n",
    "        \n",
    "        # cross-validation\n",
    "        if cross_validator:\n",
    "            val_err = (sum(x_prev[p_indices] > 0) + sum(x_prev[n_indices] < 0)) / (len(p_indices) + len(n_indices))\n",
    "            print(\"c-val: {}\\tnorm: {}\".format(float(val_err),np.linalg.norm(x_next - x_prev)))\n",
    "            \n",
    "        x_prev = x_next\n",
    "\n",
    "    ans = x_next.copy()\n",
    "    return(k + 1, ans)"
   ]
  },
  {
   "cell_type": "code",
   "execution_count": 33,
   "metadata": {
    "collapsed": false,
    "scrolled": false
   },
   "outputs": [
    {
     "name": "stdout",
     "output_type": "stream",
     "text": [
      "c-val: 0.0\tnorm: 29.688359202867556\n",
      "c-val: 0.6559485530546624\tnorm: 13.620989896495868\n",
      "c-val: 0.864951768488746\tnorm: 7.64479775052603\n",
      "c-val: 0.9067524115755627\tnorm: 4.933625413250731\n",
      "c-val: 0.8938906752411575\tnorm: 3.0672862312070075\n",
      "c-val: 0.8938906752411575\tnorm: 2.07552925319266\n",
      "c-val: 0.8971061093247589\tnorm: 1.3290035753398364\n",
      "c-val: 0.8971061093247589\tnorm: 0.9034091889314265\n",
      "c-val: 0.9003215434083601\tnorm: 0.5856189287698789\n",
      "c-val: 0.9003215434083601\tnorm: 0.3980555321736085\n",
      "c-val: 0.9003215434083601\tnorm: 0.260538139496578\n",
      "c-val: 0.9003215434083601\tnorm: 0.17699409755777268\n",
      "c-val: 0.9003215434083601\tnorm: 0.11678005232184453\n",
      "c-val: 0.9003215434083601\tnorm: 0.079305409318267\n",
      "c-val: 0.9003215434083601\tnorm: 0.05267894479263213\n",
      "c-val: 0.9003215434083601\tnorm: 0.03577446830958776\n",
      "c-val: 0.9003215434083601\tnorm: 0.0238983515676597\n",
      "c-val: 0.9003215434083601\tnorm: 0.016235423278195365\n",
      "c-val: 0.9003215434083601\tnorm: 0.010897729827797067\n",
      "c-val: 0.9003215434083601\tnorm: 0.007408328544378458\n",
      "c-val: 0.9003215434083601\tnorm: 0.004992887679303166\n",
      "c-val: 0.9003215434083601\tnorm: 0.0033972608104242867\n",
      "c-val: 0.9003215434083601\tnorm: 0.00229752677155332\n",
      "c-val: 0.9003215434083601\tnorm: 0.0015649629513507695\n",
      "c-val: 0.9003215434083601\tnorm: 0.0010615088236483356\n",
      "c-val: 0.9003215434083601\tnorm: 0.0007239031615568852\n",
      "c-val: 0.9003215434083601\tnorm: 0.0004922822241446512\n",
      "c-val: 0.9003215434083601\tnorm: 0.0003361318411715517\n",
      "c-val: 0.9003215434083601\tnorm: 0.00022909448885643293\n",
      "c-val: 0.9003215434083601\tnorm: 0.00015662314185603334\n",
      "c-val: 0.9003215434083601\tnorm: 0.00010695813580094508\n",
      "c-val: 0.9003215434083601\tnorm: 7.321406731968195e-05\n",
      "c-val: 0.9003215434083601\tnorm: 5.008480370773499e-05\n",
      "c-val: 0.9003215434083601\tnorm: 3.43249185972247e-05\n",
      "c-val: 0.9003215434083601\tnorm: 2.351744154961484e-05\n",
      "c-val: 0.9003215434083601\tnorm: 1.6135886201391883e-05\n",
      "c-val: 0.9003215434083601\tnorm: 1.1070567807576e-05\n",
      "c-val: 0.9003215434083601\tnorm: 7.604027741853705e-06\n",
      "c-val: 0.9003215434083601\tnorm: 5.223410485252786e-06\n",
      "c-val: 0.9003215434083601\tnorm: 3.5914375862378687e-06\n",
      "c-val: 0.9003215434083601\tnorm: 2.4697716216879317e-06\n",
      "c-val: 0.9003215434083601\tnorm: 1.6997291791431052e-06\n",
      "c-val: 0.9003215434083601\tnorm: 1.1700308579703468e-06\n",
      "c-val: 0.9003215434083601\tnorm: 8.059307053399309e-07\n",
      "c-val: 0.9003215434083601\tnorm: 5.552659751286485e-07\n",
      "c-val: 0.9003215434083601\tnorm: 3.8277960161359106e-07\n",
      "c-val: 0.9003215434083601\tnorm: 2.639365009834525e-07\n",
      "c-val: 0.9003215434083601\tnorm: 1.8208169264529047e-07\n",
      "c-val: 0.9003215434083601\tnorm: 1.2564064459382466e-07\n",
      "c-val: 0.9003215434083601\tnorm: 8.67341685533152e-08\n",
      "c-val: 0.9003215434083601\tnorm: 5.988763685525142e-08\n",
      "c-val: 0.9003215434083601\tnorm: 4.1368271347310707e-08\n",
      "c-val: 0.9003215434083601\tnorm: 2.8580581907022463e-08\n",
      "c-val: 0.9003215434083601\tnorm: 1.9753831914517837e-08\n",
      "c-val: 0.9003215434083601\tnorm: 1.3654911454792282e-08\n"
     ]
    }
   ],
   "source": [
    "k, ans = repRank(F, B, d, cross_validator=True)"
   ]
  },
  {
   "cell_type": "code",
   "execution_count": 16,
   "metadata": {
    "collapsed": false
   },
   "outputs": [
    {
     "name": "stdout",
     "output_type": "stream",
     "text": [
      "57\n"
     ]
    }
   ],
   "source": [
    "print(k)\n",
    "\n",
    "for i in list(map(i2t.get, np.array(ans.argsort(axis=0)[::-1][:3])[:, 0].tolist())):\n",
    "    webbrowser.open_new_tab(\"https://twitter.com/intent/user?user_id={}\".format(str(i)))\n",
    "\n",
    "for i in list(map(i2t.get, np.array(ans.argsort(axis=0)[::-1][-3:])[:, 0].tolist())):\n",
    "    webbrowser.open_new_tab(\"https://twitter.com/intent/user?user_id={}\".format(str(i)))"
   ]
  },
  {
   "cell_type": "code",
   "execution_count": null,
   "metadata": {
    "collapsed": true
   },
   "outputs": [],
   "source": []
  }
 ],
 "metadata": {
  "anaconda-cloud": {},
  "kernelspec": {
   "display_name": "Python [conda env:py35]",
   "language": "python",
   "name": "conda-env-py35-py"
  },
  "language_info": {
   "codemirror_mode": {
    "name": "ipython",
    "version": 3
   },
   "file_extension": ".py",
   "mimetype": "text/x-python",
   "name": "python",
   "nbconvert_exporter": "python",
   "pygments_lexer": "ipython3",
   "version": "3.5.2"
  }
 },
 "nbformat": 4,
 "nbformat_minor": 1
}
