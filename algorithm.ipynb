{
 "cells": [
  {
   "cell_type": "code",
   "execution_count": 100,
   "metadata": {
    "collapsed": true
   },
   "outputs": [],
   "source": [
    "import numpy as np\n",
    "import scipy as sp\n",
    "import random\n",
    "import scipy.sparse\n",
    "import scipy.sparse.linalg\n",
    "import pickle\n",
    "import sklearn\n",
    "import sklearn.preprocessing\n",
    "import webbrowser"
   ]
  },
  {
   "cell_type": "code",
   "execution_count": 234,
   "metadata": {
    "collapsed": false
   },
   "outputs": [
    {
     "name": "stdout",
     "output_type": "stream",
     "text": [
      "Not spam nodes:\t2749\n",
      "Spam nodes:\t375\n",
      "Not spam nodes (80%):\t2200\n",
      "Spam nodes (80%):\t300\n"
     ]
    },
    {
     "name": "stderr",
     "output_type": "stream",
     "text": [
      "/Users/ko/anaconda/envs/py35/lib/python3.5/site-packages/sklearn/utils/validation.py:420: DataConversionWarning: Data with input dtype int8 was converted to float64 by the normalize function.\n",
      "  warnings.warn(msg, DataConversionWarning)\n",
      "/Users/ko/anaconda/envs/py35/lib/python3.5/site-packages/sklearn/utils/validation.py:420: DataConversionWarning: Data with input dtype int8 was converted to float64 by the normalize function.\n",
      "  warnings.warn(msg, DataConversionWarning)\n"
     ]
    }
   ],
   "source": [
    "# twitter\n",
    "\n",
    "with open(\"ovchinnikov-rutwitterdataset/A.pkl\", \"rb\") as file:\n",
    "    A = np.load(file, encoding=\"latin1\")\n",
    "\n",
    "with open(\"ovchinnikov-rutwitterdataset/labeled_nodes.pkl\", \"rb\") as file:\n",
    "    d = np.load(file, encoding=\"latin1\")\n",
    "\n",
    "with open(\"ovchinnikov-rutwitterdataset/i2t.pkl\", \"rb\") as file:\n",
    "    i2t = pickle.load(file)\n",
    "\n",
    "with open(\"ovchinnikov-rutwitterdataset/t2i.pkl\", \"rb\") as file:\n",
    "    t2i = pickle.load(file)\n",
    "    \n",
    "# preprocessing\n",
    "\n",
    "F = sklearn.preprocessing.normalize(A, axis=1, norm='l1')\n",
    "B = sklearn.preprocessing.normalize(A.T, axis=1, norm='l1')\n",
    "d = d.todense()\n",
    "\n",
    "\n",
    "# substracting 80% of values (20% for cross-validation)\n",
    "n_n_elements = d[d < 0].shape[1]\n",
    "n_p_elements = d[d > 0].shape[1]\n",
    "\n",
    "print(\"Not spam nodes:\\t{}\".format(n_n_elements))\n",
    "print(\"Spam nodes:\\t{}\".format(n_p_elements))\n",
    "\n",
    "n_indices = random.sample(np.where(d < 0)[0].tolist(), int(n_n_elements * .20 // 1))  # Random indices of 20% negative\n",
    "p_indices = random.sample(np.where(d > 0)[0].tolist(), int(n_p_elements * .20 // 1))  # Random indices of 20% positive\n",
    "d[n_indices] = 0\n",
    "d[p_indices] = 0\n",
    "\n",
    "print(\"Not spam nodes (80%):\\t{}\".format(d[d < 0].shape[1]))\n",
    "print(\"Spam nodes (80%):\\t{}\".format(d[d > 0].shape[1]))"
   ]
  },
  {
   "cell_type": "code",
   "execution_count": 13,
   "metadata": {
    "collapsed": false
   },
   "outputs": [],
   "source": [
    "# we are looking for solution x == T(x)\n",
    "\n",
    "def T(F, B, d, x, a1=0.7, a2=0.7, a3=0.7):\n",
    "    return a1 * F.dot(x.clip(0)) + a2 * B.dot(x.clip(-np.inf, 0)) + a3 * d"
   ]
  },
  {
   "cell_type": "code",
   "execution_count": 280,
   "metadata": {
    "collapsed": true
   },
   "outputs": [],
   "source": [
    "# original RepRank\n",
    "\n",
    "def repRank(F, B, d, maxiter=200, x0=None, tol=1e-8, cross_validator=None):\n",
    "    if x0 is None:\n",
    "        x_prev = d.copy()\n",
    "    else:\n",
    "        x_prev = x0.copy()\n",
    "\n",
    "    for k in range(maxiter):\n",
    "        x_next = T(F, B, d, x_prev)\n",
    "        if np.linalg.norm(x_next - x_prev) < tol:\n",
    "            break\n",
    "        x_prev = x_next\n",
    "        \n",
    "        # cross-validation\n",
    "        if cross_validator:\n",
    "            val_err = (sum(x_prev[p_indices] > 0) + sum(x_prev[n_indices] < 0)) / (len(p_indices) + len(n_indices))\n",
    "            print(float(val_err))\n",
    "\n",
    "    ans = x_next.copy()\n",
    "    return(k + 1, ans)"
   ]
  },
  {
   "cell_type": "code",
   "execution_count": 281,
   "metadata": {
    "collapsed": false,
    "scrolled": true
   },
   "outputs": [
    {
     "name": "stdout",
     "output_type": "stream",
     "text": [
      "0.6746794871794872\n",
      "0.8541666666666666\n",
      "0.8862179487179487\n",
      "0.8894230769230769\n",
      "0.8878205128205128\n",
      "0.8894230769230769\n",
      "0.8894230769230769\n",
      "0.8894230769230769\n",
      "0.8894230769230769\n",
      "0.8894230769230769\n",
      "0.8894230769230769\n",
      "0.8894230769230769\n",
      "0.8894230769230769\n",
      "0.8894230769230769\n",
      "0.8894230769230769\n",
      "0.8894230769230769\n",
      "0.8894230769230769\n",
      "0.8894230769230769\n",
      "0.8894230769230769\n",
      "0.8894230769230769\n",
      "0.8894230769230769\n",
      "0.8894230769230769\n",
      "0.8894230769230769\n",
      "0.8894230769230769\n",
      "0.8894230769230769\n",
      "0.8894230769230769\n",
      "0.8894230769230769\n",
      "0.8894230769230769\n",
      "0.8894230769230769\n",
      "0.8894230769230769\n",
      "0.8894230769230769\n",
      "0.8894230769230769\n",
      "0.8894230769230769\n",
      "0.8894230769230769\n",
      "0.8894230769230769\n",
      "0.8894230769230769\n",
      "0.8894230769230769\n",
      "0.8894230769230769\n",
      "0.8894230769230769\n",
      "0.8894230769230769\n",
      "0.8894230769230769\n",
      "0.8894230769230769\n",
      "0.8894230769230769\n",
      "0.8894230769230769\n",
      "0.8894230769230769\n",
      "0.8894230769230769\n",
      "0.8894230769230769\n",
      "0.8894230769230769\n",
      "0.8894230769230769\n",
      "0.8894230769230769\n",
      "0.8894230769230769\n",
      "0.8894230769230769\n",
      "0.8894230769230769\n",
      "0.8894230769230769\n",
      "0.8894230769230769\n"
     ]
    }
   ],
   "source": [
    "k, ans = repRank(F, B, d, cross_validator=True)"
   ]
  },
  {
   "cell_type": "code",
   "execution_count": 16,
   "metadata": {
    "collapsed": false
   },
   "outputs": [
    {
     "name": "stdout",
     "output_type": "stream",
     "text": [
      "57\n"
     ]
    }
   ],
   "source": [
    "print(k)\n",
    "\n",
    "for i in list(map(i2t.get, np.array(ans.argsort(axis=0)[::-1][:3])[:, 0].tolist())):\n",
    "    webbrowser.open_new_tab(\"https://twitter.com/intent/user?user_id={}\".format(str(i)))\n",
    "\n",
    "for i in list(map(i2t.get, np.array(ans.argsort(axis=0)[::-1][-3:])[:, 0].tolist())):\n",
    "    webbrowser.open_new_tab(\"https://twitter.com/intent/user?user_id={}\".format(str(i)))"
   ]
  },
  {
   "cell_type": "code",
   "execution_count": null,
   "metadata": {
    "collapsed": true
   },
   "outputs": [],
   "source": [
    "import xgboost as xgb\n",
    "# read in data\n",
    "dtrain = xgb.DMatrix('demo/data/agaricus.txt.train')\n",
    "dtest = xgb.DMatrix('demo/data/agaricus.txt.test')\n",
    "# specify parameters via map\n",
    "param = {'max_depth':2, 'eta':1, 'silent':1, 'objective':'binary:logistic' }\n",
    "num_round = 2\n",
    "bst = xgb.train(param, dtrain, num_round)\n",
    "# make prediction\n",
    "preds = bst.predict(dtest)"
   ]
  }
 ],
 "metadata": {
  "anaconda-cloud": {},
  "kernelspec": {
   "display_name": "Python [conda env:py35]",
   "language": "python",
   "name": "conda-env-py35-py"
  },
  "language_info": {
   "codemirror_mode": {
    "name": "ipython",
    "version": 3
   },
   "file_extension": ".py",
   "mimetype": "text/x-python",
   "name": "python",
   "nbconvert_exporter": "python",
   "pygments_lexer": "ipython3",
   "version": "3.5.2"
  }
 },
 "nbformat": 4,
 "nbformat_minor": 1
}
